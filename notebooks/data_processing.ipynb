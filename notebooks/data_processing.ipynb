{
 "cells": [
  {
   "cell_type": "code",
   "execution_count": 2,
   "metadata": {},
   "outputs": [],
   "source": [
    "# Import Libraries\n",
    "import pandas as pd\n",
    "import numpy as np\n",
    "\n",
    "import requests\n",
    "import json\n",
    "import datetime\n",
    "import itertools\n",
    "from itertools import repeat\n",
    "import plotnine\n",
    "import matplotlib.pylab as plt\n",
    "%matplotlib inline\n",
    "from matplotlib.pylab import rcParams\n",
    "rcParams['figure.figsize'] = 10,6"
   ]
  },
  {
   "cell_type": "code",
   "execution_count": 107,
   "metadata": {},
   "outputs": [],
   "source": [
    "#read in all data:\n",
    "dataE = pd.read_csv(\"dataE.csv\")\n",
    "dataI = pd.read_csv(\"dataI.csv\")\n",
    "dataZ = pd.read_csv(\"dataZ.csv\")\n",
    "dataM = pd.read_csv(\"dataM.csv\")\n",
    "dataR = pd.read_csv(\"dataR.csv\")\n",
    "dataS = pd.read_csv(\"dataS.csv\")"
   ]
  },
  {
   "cell_type": "code",
   "execution_count": 109,
   "metadata": {},
   "outputs": [],
   "source": [
    "#set date as index:\n",
    "dataE2 = dataE.copy()\n",
    "dataE = dataE.set_index(\"Date\")\n",
    "dataE2= dataE2.groupby(\"Date\").mean()\n",
    "\n",
    "dataI2 = dataI.copy()\n",
    "dataI = dataI.set_index(\"Date\")\n",
    "dataI2 = dataI2.groupby(\"Date\").mean()\n",
    "\n",
    "dataZ2 = dataZ.copy()\n",
    "dataZ = dataZ.set_index(\"Date\")\n",
    "dataZ2 = dataZ2.groupby(\"Date\").mean()\n",
    "\n",
    "dataM2 = dataM.copy()\n",
    "dataM = dataM.set_index(\"Date\")\n",
    "dataM2 = dataM2.set_index(\"Date\").mean()\n",
    "\n",
    "dataR2 = dataR.copy()\n",
    "dataR = dataR.set_index(\"Date\")\n",
    "dataR2= dataR2.groupby(\"Date\").mean()\n",
    "\n",
    "dataS2 = dataS.copy()\n",
    "dataS = dataS.set_index(\"Date\")\n",
    "dataS2= dataS2.groupby(\"Date\").mean()"
   ]
  },
  {
   "cell_type": "code",
   "execution_count": 112,
   "metadata": {},
   "outputs": [],
   "source": [
    "#delete duplicate rows from each dataset\n",
    "dataE = dataE.reset_index()\n",
    "dataE = dataE.drop_duplicates(subset=['Date'],keep='first')\n",
    "dataE = dataE.set_index(\"Date\")\n",
    "\n",
    "dataI = dataI.reset_index()\n",
    "dataI = dataI.drop_duplicates(subset=['Date'],keep='first')\n",
    "dataI = dataI.set_index(\"Date\")\n",
    "\n",
    "dataZ = dataZ.reset_index()\n",
    "dataZ = dataZ.drop_duplicates(subset=['Date'],keep='first')\n",
    "dataZ = dataZ.set_index(\"Date\")\n",
    "\n",
    "dataM = dataM.reset_index()\n",
    "dataM = dataM.drop_duplicates(subset=['Date'],keep='first')\n",
    "dataM = dataM.set_index(\"Date\")\n",
    "\n",
    "dataR = dataR.reset_index()\n",
    "dataR = dataR.drop_duplicates(subset=['Date'],keep='first')\n",
    "dataR = dataR.set_index(\"Date\")\n",
    "\n",
    "dataS = dataS.reset_index()\n",
    "dataS = dataS.drop_duplicates(subset=['Date'],keep='first')\n",
    "dataS = dataS.set_index(\"Date\")"
   ]
  },
  {
   "cell_type": "code",
   "execution_count": 114,
   "metadata": {},
   "outputs": [],
   "source": [
    "#perform join on both datasets:\n",
    "dataE = dataE.join(dataE2, lsuffix=\"_left\", rsuffix=\"_right\")\n",
    "dataI = dataI.join(dataI2, lsuffix=\"_left\", rsuffix=\"_right\")\n",
    "dataZ = dataZ.join(dataZ2, lsuffix=\"_left\", rsuffix=\"_right\")\n",
    "#dataM = dataM.join(dataM2, lsuffix=\"_left\", rsuffix=\"_right\")\n",
    "dataR = dataR.join(dataR2, lsuffix=\"_left\", rsuffix=\"_right\")\n",
    "dataS = dataS.join(dataS2, lsuffix=\"_left\", rsuffix=\"_right\")"
   ]
  },
  {
   "cell_type": "code",
   "execution_count": 115,
   "metadata": {},
   "outputs": [],
   "source": [
    "#extract columns of interest:\n",
    "dataE = dataE[[\"tmax_left\",\"tmin_left\",\"Precip_right\",\"average_left\"]]\n",
    "dataI = dataI[[\"tmax_left\",\"tmin_left\",\"Precip_right\",\"average_left\"]]\n",
    "dataZ = dataZ[[\"tmax_left\",\"tmin_left\",\"Precip_right\",\"average_left\"]]\n",
    "dataR = dataR[[\"tmax_left\",\"tmin_left\",\"Precip_right\",\"average_left\"]]\n",
    "dataS = dataS[[\"tmax_left\",\"tmin_left\",\"Precip_right\",\"average_left\"]]\n",
    "dataM = dataM.rename(columns={\n",
    "    \"tmax\":\"tmax_left\",\n",
    "    \"tmin\":\"tmin_left\",\n",
    "    \"Precip\":\"Precip_right\",\n",
    "    \"average\":\"average_left\"\n",
    "})\n"
   ]
  },
  {
   "cell_type": "code",
   "execution_count": 116,
   "metadata": {},
   "outputs": [],
   "source": [
    "#add in county data:\n",
    "dataE[\"county\"] = \"El Dorado\"\n",
    "dataI[\"county\"] = \"Imperial\"\n",
    "dataZ[\"county\"] = \"Merced\"\n",
    "dataM[\"county\"] = \"Mendocino\"\n",
    "dataR[\"county\"] = \"Riverside\"\n",
    "dataS[\"county\"] = \"Siskyou\"\n"
   ]
  },
  {
   "cell_type": "code",
   "execution_count": 117,
   "metadata": {},
   "outputs": [
    {
     "name": "stdout",
     "output_type": "stream",
     "text": [
      "299\n",
      "471\n",
      "500\n",
      "294\n",
      "35\n",
      "159\n"
     ]
    }
   ],
   "source": [
    "print(len(dataE))\n",
    "print(len(dataI))\n",
    "print(len(dataZ))\n",
    "print(len(dataM))\n",
    "print(len(dataR))\n",
    "print(len(dataS))"
   ]
  },
  {
   "cell_type": "code",
   "execution_count": 118,
   "metadata": {},
   "outputs": [],
   "source": [
    "#concatenate into one dataset:\n",
    "weather = pd.concat([dataE,dataI,dataZ,dataM,dataR,dataS])"
   ]
  },
  {
   "cell_type": "code",
   "execution_count": 137,
   "metadata": {},
   "outputs": [],
   "source": [
    "weather = weather.reset_index()"
   ]
  },
  {
   "cell_type": "code",
   "execution_count": 138,
   "metadata": {},
   "outputs": [],
   "source": [
    "#load in wind data:\n",
    "windE = pd.read_csv(\"el_dorado_county_wind_data.csv\")\n",
    "windI = pd.read_csv(\"Imperial_county_wind_data.csv\")\n",
    "windZ = pd.read_csv(\"Merced_county_wind_data.csv\")\n",
    "windM = pd.read_csv(\"Mendocino_county_wind_data.csv\")\n",
    "windR = pd.read_csv(\"Riverside_county_wind_data.csv\")\n",
    "windS = pd.read_csv(\"Siskyou_county_wind_data.csv\")\n"
   ]
  },
  {
   "cell_type": "code",
   "execution_count": 139,
   "metadata": {},
   "outputs": [],
   "source": [
    "#add county names to wind data:\n",
    "windE[\"county\"] = \"El Dorado\"\n",
    "windI[\"county\"] = \"Imperial\"\n",
    "windZ[\"county\"] = \"Merced\"\n",
    "windM[\"county\"] = \"Mendocino\"\n",
    "windR[\"county\"] = \"Riverside\"\n",
    "windS[\"county\"] = \"Siskyou\""
   ]
  },
  {
   "cell_type": "code",
   "execution_count": 140,
   "metadata": {},
   "outputs": [],
   "source": [
    "#merge all wind data together:\n",
    "winds = pd.concat([windE,windI,windZ,windM,windR,windS])"
   ]
  },
  {
   "cell_type": "code",
   "execution_count": 141,
   "metadata": {},
   "outputs": [],
   "source": [
    "#set indices for join:\n",
    "winds = winds.set_index([\"Date\",\"county\"])\n",
    "weather = weather.set_index([\"Date\",\"county\"])"
   ]
  },
  {
   "cell_type": "code",
   "execution_count": 143,
   "metadata": {},
   "outputs": [
    {
     "data": {
      "text/html": [
       "<div>\n",
       "<style scoped>\n",
       "    .dataframe tbody tr th:only-of-type {\n",
       "        vertical-align: middle;\n",
       "    }\n",
       "\n",
       "    .dataframe tbody tr th {\n",
       "        vertical-align: top;\n",
       "    }\n",
       "\n",
       "    .dataframe thead th {\n",
       "        text-align: right;\n",
       "    }\n",
       "</style>\n",
       "<table border=\"1\" class=\"dataframe\">\n",
       "  <thead>\n",
       "    <tr style=\"text-align: right;\">\n",
       "      <th></th>\n",
       "      <th></th>\n",
       "      <th>tmax_left</th>\n",
       "      <th>tmin_left</th>\n",
       "      <th>Precip_right</th>\n",
       "      <th>average_left</th>\n",
       "    </tr>\n",
       "    <tr>\n",
       "      <th>Date</th>\n",
       "      <th>county</th>\n",
       "      <th></th>\n",
       "      <th></th>\n",
       "      <th></th>\n",
       "      <th></th>\n",
       "    </tr>\n",
       "  </thead>\n",
       "  <tbody>\n",
       "    <tr>\n",
       "      <th>2003-01-01</th>\n",
       "      <th>El Dorado</th>\n",
       "      <td>50.0</td>\n",
       "      <td>42.0</td>\n",
       "      <td>0.080000</td>\n",
       "      <td>46.0</td>\n",
       "    </tr>\n",
       "    <tr>\n",
       "      <th>2003-01-02</th>\n",
       "      <th>El Dorado</th>\n",
       "      <td>44.0</td>\n",
       "      <td>29.0</td>\n",
       "      <td>0.042727</td>\n",
       "      <td>36.5</td>\n",
       "    </tr>\n",
       "    <tr>\n",
       "      <th>2003-01-03</th>\n",
       "      <th>El Dorado</th>\n",
       "      <td>53.0</td>\n",
       "      <td>31.0</td>\n",
       "      <td>0.000000</td>\n",
       "      <td>42.0</td>\n",
       "    </tr>\n",
       "    <tr>\n",
       "      <th>2003-01-04</th>\n",
       "      <th>El Dorado</th>\n",
       "      <td>64.0</td>\n",
       "      <td>42.0</td>\n",
       "      <td>0.000000</td>\n",
       "      <td>53.0</td>\n",
       "    </tr>\n",
       "    <tr>\n",
       "      <th>2003-01-05</th>\n",
       "      <th>El Dorado</th>\n",
       "      <td>69.0</td>\n",
       "      <td>44.0</td>\n",
       "      <td>0.009091</td>\n",
       "      <td>56.5</td>\n",
       "    </tr>\n",
       "    <tr>\n",
       "      <th>...</th>\n",
       "      <th>...</th>\n",
       "      <td>...</td>\n",
       "      <td>...</td>\n",
       "      <td>...</td>\n",
       "      <td>...</td>\n",
       "    </tr>\n",
       "    <tr>\n",
       "      <th>2010-02-05</th>\n",
       "      <th>Siskyou</th>\n",
       "      <td>50.0</td>\n",
       "      <td>30.0</td>\n",
       "      <td>0.416875</td>\n",
       "      <td>40.0</td>\n",
       "    </tr>\n",
       "    <tr>\n",
       "      <th>2010-02-06</th>\n",
       "      <th>Siskyou</th>\n",
       "      <td>51.0</td>\n",
       "      <td>38.0</td>\n",
       "      <td>0.115000</td>\n",
       "      <td>44.5</td>\n",
       "    </tr>\n",
       "    <tr>\n",
       "      <th>2010-02-07</th>\n",
       "      <th>Siskyou</th>\n",
       "      <td>50.0</td>\n",
       "      <td>35.0</td>\n",
       "      <td>0.013571</td>\n",
       "      <td>42.5</td>\n",
       "    </tr>\n",
       "    <tr>\n",
       "      <th>2010-02-08</th>\n",
       "      <th>Siskyou</th>\n",
       "      <td>48.0</td>\n",
       "      <td>27.0</td>\n",
       "      <td>0.003846</td>\n",
       "      <td>37.5</td>\n",
       "    </tr>\n",
       "    <tr>\n",
       "      <th>2010-02-09</th>\n",
       "      <th>Siskyou</th>\n",
       "      <td>50.0</td>\n",
       "      <td>35.0</td>\n",
       "      <td>0.051333</td>\n",
       "      <td>42.5</td>\n",
       "    </tr>\n",
       "  </tbody>\n",
       "</table>\n",
       "<p>1758 rows × 4 columns</p>\n",
       "</div>"
      ],
      "text/plain": [
       "                      tmax_left  tmin_left  Precip_right  average_left\n",
       "Date       county                                                     \n",
       "2003-01-01 El Dorado       50.0       42.0      0.080000          46.0\n",
       "2003-01-02 El Dorado       44.0       29.0      0.042727          36.5\n",
       "2003-01-03 El Dorado       53.0       31.0      0.000000          42.0\n",
       "2003-01-04 El Dorado       64.0       42.0      0.000000          53.0\n",
       "2003-01-05 El Dorado       69.0       44.0      0.009091          56.5\n",
       "...                         ...        ...           ...           ...\n",
       "2010-02-05 Siskyou         50.0       30.0      0.416875          40.0\n",
       "2010-02-06 Siskyou         51.0       38.0      0.115000          44.5\n",
       "2010-02-07 Siskyou         50.0       35.0      0.013571          42.5\n",
       "2010-02-08 Siskyou         48.0       27.0      0.003846          37.5\n",
       "2010-02-09 Siskyou         50.0       35.0      0.051333          42.5\n",
       "\n",
       "[1758 rows x 4 columns]"
      ]
     },
     "execution_count": 143,
     "metadata": {},
     "output_type": "execute_result"
    }
   ],
   "source": [
    "weather"
   ]
  },
  {
   "cell_type": "code",
   "execution_count": 144,
   "metadata": {},
   "outputs": [],
   "source": [
    "#join weather and wind data\n",
    "joined_weather = weather.join(winds)"
   ]
  },
  {
   "cell_type": "code",
   "execution_count": 146,
   "metadata": {},
   "outputs": [],
   "source": [
    "#reset index\n",
    "joined_weather = joined_weather.reset_index()"
   ]
  },
  {
   "cell_type": "code",
   "execution_count": 152,
   "metadata": {},
   "outputs": [],
   "source": [
    "#save to csv:\n",
    "joined_weather.to_csv(\"joined_weather.csv\")"
   ]
  }
 ],
 "metadata": {
  "interpreter": {
   "hash": "fe4ccf4b2fb3a55c51f4dd7be236f0f476405b70fd6c22d681e53b21793ebb5a"
  },
  "kernelspec": {
   "display_name": "Python 3.8.8 ('base')",
   "language": "python",
   "name": "python3"
  },
  "language_info": {
   "codemirror_mode": {
    "name": "ipython",
    "version": 3
   },
   "file_extension": ".py",
   "mimetype": "text/x-python",
   "name": "python",
   "nbconvert_exporter": "python",
   "pygments_lexer": "ipython3",
   "version": "3.8.8"
  },
  "orig_nbformat": 4
 },
 "nbformat": 4,
 "nbformat_minor": 2
}
